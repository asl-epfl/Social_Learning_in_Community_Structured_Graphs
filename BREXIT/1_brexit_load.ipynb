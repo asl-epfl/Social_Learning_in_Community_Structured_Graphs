{
 "cells": [
  {
   "cell_type": "code",
   "execution_count": 1,
   "metadata": {},
   "outputs": [],
   "source": [
    "import tweepy\n",
    "import csv\n",
    "import pandas as pd\n",
    "import tqdm\n",
    "import json\n",
    "import time"
   ]
  },
  {
   "cell_type": "code",
   "execution_count": 2,
   "metadata": {},
   "outputs": [],
   "source": [
    "bearer_token =\"your_token\"\n",
    "auth = tweepy.OAuth2BearerHandler(bearer_token)\n",
    "api = tweepy.API(auth, wait_on_rate_limit=True)\n",
    "\n",
    "import requests\n",
    "client = tweepy.Client(bearer_token=bearer_token,  \n",
    "                       return_type = requests.Response,)\n",
    "#                        wait_on_rate_limit=True)"
   ]
  },
  {
   "cell_type": "code",
   "execution_count": 14,
   "metadata": {},
   "outputs": [],
   "source": [
    "# uk parlament list\n",
    "list_members = api.get_list_members(list_id=217199644, count=1000)\n",
    "list_id = []\n",
    "for user in list_members:\n",
    "    list_id.append(user._json['id'])"
   ]
  },
  {
   "cell_type": "code",
   "execution_count": 15,
   "metadata": {},
   "outputs": [
    {
     "data": {
      "text/plain": [
       "535"
      ]
     },
     "execution_count": 15,
     "metadata": {},
     "output_type": "execute_result"
    }
   ],
   "source": [
    "len(list_members)"
   ]
  },
  {
   "cell_type": "code",
   "execution_count": 17,
   "metadata": {},
   "outputs": [
    {
     "name": "stderr",
     "output_type": "stream",
     "text": [
      "100%|██████████| 535/535 [2:06:50<00:00, 14.23s/it]    \n"
     ]
    }
   ],
   "source": [
    "for i, userID in enumerate(tqdm.tqdm(list_id)):\n",
    "    keyword = \"Brexit\"\n",
    "    query =f\"{keyword} from:{userID} lang:en\"\n",
    "    tweets = client.search_all_tweets(query=query, \n",
    "                                      max_results=500, \n",
    "                                      start_time='2020-01-01T00:00:00.000Z', \n",
    "                                      end_time='2020-04-01T00:00:00.000Z', \n",
    "                                      tweet_fields = ['text']) \n",
    "    json_response = tweets_dict = tweets.json()\n",
    "    json.dump(json_response, open(\"data/tweets0104/\" + str(userID) + \".json\", 'w'))\n",
    "    time.sleep(2)\n",
    "    if (i+1)%70 == 0:\n",
    "        time.sleep(900)"
   ]
  },
  {
   "cell_type": "markdown",
   "metadata": {},
   "source": [
    "### Exctract beliefs"
   ]
  },
  {
   "cell_type": "code",
   "execution_count": 1,
   "metadata": {},
   "outputs": [
    {
     "data": {
      "application/vnd.jupyter.widget-view+json": {
       "model_id": "6ef4939140254c4da77c2a5748e3a755",
       "version_major": 2,
       "version_minor": 0
      },
      "text/plain": [
       "HBox(children=(FloatProgress(value=0.0, description='Downloading (…)lve/main/config.json', max=929.0, style=Pr…"
      ]
     },
     "metadata": {},
     "output_type": "display_data"
    },
    {
     "name": "stdout",
     "output_type": "stream",
     "text": [
      "\n"
     ]
    },
    {
     "data": {
      "application/vnd.jupyter.widget-view+json": {
       "model_id": "09625744cd9d4bf5959e196ead85b931",
       "version_major": 2,
       "version_minor": 0
      },
      "text/plain": [
       "HBox(children=(FloatProgress(value=0.0, description='Downloading (…)olve/main/vocab.json', max=898822.0, style…"
      ]
     },
     "metadata": {},
     "output_type": "display_data"
    },
    {
     "name": "stdout",
     "output_type": "stream",
     "text": [
      "\n"
     ]
    },
    {
     "data": {
      "application/vnd.jupyter.widget-view+json": {
       "model_id": "973e135291824bdd9a32b1192532455b",
       "version_major": 2,
       "version_minor": 0
      },
      "text/plain": [
       "HBox(children=(FloatProgress(value=0.0, description='Downloading (…)olve/main/merges.txt', max=456318.0, style…"
      ]
     },
     "metadata": {},
     "output_type": "display_data"
    },
    {
     "name": "stdout",
     "output_type": "stream",
     "text": [
      "\n"
     ]
    },
    {
     "data": {
      "application/vnd.jupyter.widget-view+json": {
       "model_id": "f849a377c2f647a093d93c6ed68c8dcf",
       "version_major": 2,
       "version_minor": 0
      },
      "text/plain": [
       "HBox(children=(FloatProgress(value=0.0, description='Downloading (…)cial_tokens_map.json', max=239.0, style=Pr…"
      ]
     },
     "metadata": {},
     "output_type": "display_data"
    },
    {
     "name": "stdout",
     "output_type": "stream",
     "text": [
      "\n"
     ]
    },
    {
     "data": {
      "application/vnd.jupyter.widget-view+json": {
       "model_id": "f4adc255351543c496c0efa94d91ea45",
       "version_major": 2,
       "version_minor": 0
      },
      "text/plain": [
       "HBox(children=(FloatProgress(value=0.0, description='Downloading pytorch_model.bin', max=501045531.0, style=Pr…"
      ]
     },
     "metadata": {},
     "output_type": "display_data"
    },
    {
     "name": "stdout",
     "output_type": "stream",
     "text": [
      "\n"
     ]
    },
    {
     "name": "stderr",
     "output_type": "stream",
     "text": [
      "Some weights of the model checkpoint at cardiffnlp/twitter-roberta-base-sentiment-latest were not used when initializing RobertaForSequenceClassification: ['roberta.pooler.dense.bias', 'roberta.pooler.dense.weight']\n",
      "- This IS expected if you are initializing RobertaForSequenceClassification from the checkpoint of a model trained on another task or with another architecture (e.g. initializing a BertForSequenceClassification model from a BertForPreTraining model).\n",
      "- This IS NOT expected if you are initializing RobertaForSequenceClassification from the checkpoint of a model that you expect to be exactly identical (initializing a BertForSequenceClassification model from a BertForSequenceClassification model).\n"
     ]
    }
   ],
   "source": [
    "import json\n",
    "import tqdm\n",
    "import numpy as np \n",
    "\n",
    "from os import listdir\n",
    "from os.path import isfile, join\n",
    "from utils import roberta_sent_anal"
   ]
  },
  {
   "cell_type": "code",
   "execution_count": 2,
   "metadata": {},
   "outputs": [],
   "source": [
    "data_path = 'data/tweets0104'\n",
    "files = [f for f in listdir(data_path) if isfile(join(data_path, f))]\n",
    "ids = [int(file[:-5]) for file in files]"
   ]
  },
  {
   "cell_type": "code",
   "execution_count": 8,
   "metadata": {},
   "outputs": [
    {
     "name": "stderr",
     "output_type": "stream",
     "text": [
      "100%|██████████| 535/535 [05:09<00:00,  1.73it/s]\n"
     ]
    }
   ],
   "source": [
    "sentiments_all = []\n",
    "sentiments_avg = []\n",
    "times_all = []\n",
    "for user in tqdm.tqdm(ids):\n",
    "    user_tweets = json.load(open(data_path + \"/\" + str(user) + \".json\"))\n",
    "    user_beliefs = []\n",
    "    try:\n",
    "        user_texts = [tweet['text'] for tweet in user_tweets['data']]\n",
    "        user_times = [tweet['text'] for tweet in user_tweets['data']]\n",
    "        sentiment_scores = roberta_sent_anal.eval_sentences_positive(user_texts)\n",
    "        sentiments_all.append(np.array(sentiment_scores, dtype=np.float64))\n",
    "        sentiments_avg.append(np.mean(sentiment_scores, dtype=np.float64))\n",
    "        times_all.append(np.array(sentiment_scores, dtype=np.float64))\n",
    "    except:\n",
    "        sentiments_all.append([])\n",
    "        sentiments_avg.append(0.5)\n",
    "        times_all.append([])"
   ]
  },
  {
   "cell_type": "code",
   "execution_count": 12,
   "metadata": {},
   "outputs": [
    {
     "name": "stderr",
     "output_type": "stream",
     "text": [
      "100%|██████████| 535/535 [00:00<00:00, 676296.76it/s]\n",
      "100%|██████████| 535/535 [00:00<00:00, 1036946.69it/s]\n",
      "100%|██████████| 535/535 [00:00<00:00, 622801.18it/s]\n"
     ]
    }
   ],
   "source": [
    "dct_all = {}\n",
    "for i, user in enumerate(tqdm.tqdm(ids)):\n",
    "    dct_all[user] = list(sentiments_all[i])\n",
    "    \n",
    "dct_avg = {}\n",
    "for i, user in enumerate(tqdm.tqdm(ids)):\n",
    "    dct_avg[user] = float(sentiments_avg[i])\n",
    "    \n",
    "dct_times_all = {}\n",
    "for i, user in enumerate(tqdm.tqdm(ids)):\n",
    "    dct_times_all[user] = list(times_all[i])"
   ]
  },
  {
   "cell_type": "code",
   "execution_count": 13,
   "metadata": {},
   "outputs": [],
   "source": [
    "import json\n",
    "\n",
    "# Serialize data into file:\n",
    "json.dump(dct_all, open(\"data/belifs_all_dict0104.json\", 'w'))\n",
    "json.dump(dct_avg, open(\"data/belifs_avg_dict0104.json\", 'w'))\n",
    "json.dump(dct_times_all, open(\"data/times_all_dict0104.json\", 'w'))"
   ]
  },
  {
   "cell_type": "code",
   "execution_count": null,
   "metadata": {},
   "outputs": [],
   "source": []
  }
 ],
 "metadata": {
  "kernelspec": {
   "display_name": "Python 3 (ipykernel)",
   "language": "python",
   "name": "python3"
  },
  "language_info": {
   "codemirror_mode": {
    "name": "ipython",
    "version": 3
   },
   "file_extension": ".py",
   "mimetype": "text/x-python",
   "name": "python",
   "nbconvert_exporter": "python",
   "pygments_lexer": "ipython3",
   "version": "3.8.5"
  }
 },
 "nbformat": 4,
 "nbformat_minor": 4
}
